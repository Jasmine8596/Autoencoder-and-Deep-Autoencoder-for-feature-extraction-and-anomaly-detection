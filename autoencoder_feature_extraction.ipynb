{
 "cells": [
  {
   "cell_type": "code",
   "execution_count": 1,
   "metadata": {},
   "outputs": [],
   "source": [
    "import matplotlib.pyplot as plt\n",
    "\n",
    "import pandas as pd\n",
    "import numpy as np\n",
    "\n",
    "from sklearn.datasets import make_blobs\n",
    "\n",
    "from sklearn import preprocessing\n",
    "\n",
    "import tensorflow\n",
    "from keras.layers import Dense\n",
    "from keras import Input, Model"
   ]
  },
  {
   "cell_type": "code",
   "execution_count": 2,
   "metadata": {},
   "outputs": [
    {
     "data": {
      "text/plain": [
       "((5000, 20), (5000,))"
      ]
     },
     "execution_count": 2,
     "metadata": {},
     "output_type": "execute_result"
    }
   ],
   "source": [
    "# Make 3 blobs with 50 features\n",
    "X,y= make_blobs(n_features=20, centers=3, n_samples=5000, cluster_std=0.2, center_box=[-1, 1], random_state=9)\n",
    "X.shape, y.shape"
   ]
  },
  {
   "cell_type": "code",
   "execution_count": 3,
   "metadata": {},
   "outputs": [],
   "source": [
    "X = preprocessing.normalize(X)"
   ]
  },
  {
   "cell_type": "code",
   "execution_count": 4,
   "metadata": {},
   "outputs": [
    {
     "name": "stderr",
     "output_type": "stream",
     "text": [
      "2021-12-04 18:47:47.211166: I tensorflow/core/platform/cpu_feature_guard.cc:151] This TensorFlow binary is optimized with oneAPI Deep Neural Network Library (oneDNN) to use the following CPU instructions in performance-critical operations:  AVX2 FMA\n",
      "To enable them in other operations, rebuild TensorFlow with the appropriate compiler flags.\n"
     ]
    }
   ],
   "source": [
    "# Latent space dimension\n",
    "encoding_dim = 2\n",
    "\n",
    "# Input layer: 50 features\n",
    "input = Input(shape=(X.shape[1],))\n",
    "\n",
    "# Encoded representation of input\n",
    "encoded = Dense(encoding_dim, activation='sigmoid')(input)\n",
    "\n",
    "# Decoded representation of latent space \n",
    "decoded = Dense(X.shape[1], activation='tanh')(encoded)\n",
    "\n",
    "# Autoencoder model with encoder and decoder segments\n",
    "autoencoder = Model(input, decoded)"
   ]
  },
  {
   "cell_type": "code",
   "execution_count": 5,
   "metadata": {},
   "outputs": [],
   "source": [
    "# Separating encoder model from autoencoder\n",
    "encoder = Model(input, encoded)"
   ]
  },
  {
   "cell_type": "code",
   "execution_count": 6,
   "metadata": {},
   "outputs": [],
   "source": [
    "autoencoder.compile(optimizer='adam', loss='mse')"
   ]
  },
  {
   "cell_type": "code",
   "execution_count": 7,
   "metadata": {},
   "outputs": [
    {
     "name": "stdout",
     "output_type": "stream",
     "text": [
      "Epoch 1/60\n",
      "157/157 [==============================] - 1s 2ms/step - loss: 0.0537\n",
      "Epoch 2/60\n",
      "157/157 [==============================] - 0s 1ms/step - loss: 0.0317\n",
      "Epoch 3/60\n",
      "157/157 [==============================] - 0s 3ms/step - loss: 0.0275\n",
      "Epoch 4/60\n",
      "157/157 [==============================] - 0s 2ms/step - loss: 0.0227\n",
      "Epoch 5/60\n",
      "157/157 [==============================] - 0s 2ms/step - loss: 0.0172\n",
      "Epoch 6/60\n",
      "157/157 [==============================] - 0s 1ms/step - loss: 0.0125\n",
      "Epoch 7/60\n",
      "157/157 [==============================] - 0s 1ms/step - loss: 0.0092\n",
      "Epoch 8/60\n",
      "157/157 [==============================] - 0s 1ms/step - loss: 0.0071\n",
      "Epoch 9/60\n",
      "157/157 [==============================] - 0s 1ms/step - loss: 0.0059\n",
      "Epoch 10/60\n",
      "157/157 [==============================] - 0s 1ms/step - loss: 0.0053\n",
      "Epoch 11/60\n",
      "157/157 [==============================] - 0s 1ms/step - loss: 0.0049\n",
      "Epoch 12/60\n",
      "157/157 [==============================] - 0s 1ms/step - loss: 0.0048\n",
      "Epoch 13/60\n",
      "157/157 [==============================] - 0s 1ms/step - loss: 0.0047\n",
      "Epoch 14/60\n",
      "157/157 [==============================] - 0s 1ms/step - loss: 0.0046\n",
      "Epoch 15/60\n",
      "157/157 [==============================] - 0s 3ms/step - loss: 0.0046\n",
      "Epoch 16/60\n",
      "157/157 [==============================] - 0s 1ms/step - loss: 0.0046\n",
      "Epoch 17/60\n",
      "157/157 [==============================] - 0s 1ms/step - loss: 0.0046\n",
      "Epoch 18/60\n",
      "157/157 [==============================] - 0s 1ms/step - loss: 0.0046\n",
      "Epoch 19/60\n",
      "157/157 [==============================] - 0s 2ms/step - loss: 0.0046\n",
      "Epoch 20/60\n",
      "157/157 [==============================] - 0s 1ms/step - loss: 0.0046\n",
      "Epoch 21/60\n",
      "157/157 [==============================] - 0s 1ms/step - loss: 0.0046\n",
      "Epoch 22/60\n",
      "157/157 [==============================] - 0s 1ms/step - loss: 0.0046\n",
      "Epoch 23/60\n",
      "157/157 [==============================] - 0s 1ms/step - loss: 0.0046\n",
      "Epoch 24/60\n",
      "157/157 [==============================] - 0s 1ms/step - loss: 0.0046\n",
      "Epoch 25/60\n",
      "157/157 [==============================] - 0s 1ms/step - loss: 0.0046\n",
      "Epoch 26/60\n",
      "157/157 [==============================] - 0s 1ms/step - loss: 0.0046\n",
      "Epoch 27/60\n",
      "157/157 [==============================] - 0s 1ms/step - loss: 0.0046\n",
      "Epoch 28/60\n",
      "157/157 [==============================] - 0s 1ms/step - loss: 0.0046\n",
      "Epoch 29/60\n",
      "157/157 [==============================] - 0s 1ms/step - loss: 0.0046\n",
      "Epoch 30/60\n",
      "157/157 [==============================] - 0s 1ms/step - loss: 0.0046\n",
      "Epoch 31/60\n",
      "157/157 [==============================] - 0s 1ms/step - loss: 0.0046\n",
      "Epoch 32/60\n",
      "157/157 [==============================] - 0s 1ms/step - loss: 0.0046\n",
      "Epoch 33/60\n",
      "157/157 [==============================] - 0s 1ms/step - loss: 0.0046\n",
      "Epoch 34/60\n",
      "157/157 [==============================] - 0s 1ms/step - loss: 0.0046\n",
      "Epoch 35/60\n",
      "157/157 [==============================] - 0s 1ms/step - loss: 0.0046\n",
      "Epoch 36/60\n",
      "157/157 [==============================] - 0s 1ms/step - loss: 0.0046\n",
      "Epoch 37/60\n",
      "157/157 [==============================] - 0s 1ms/step - loss: 0.0046\n",
      "Epoch 38/60\n",
      "157/157 [==============================] - 0s 1ms/step - loss: 0.0046\n",
      "Epoch 39/60\n",
      "157/157 [==============================] - 0s 1ms/step - loss: 0.0046\n",
      "Epoch 40/60\n",
      "157/157 [==============================] - 0s 1ms/step - loss: 0.0046\n",
      "Epoch 41/60\n",
      "157/157 [==============================] - 0s 1ms/step - loss: 0.0046\n",
      "Epoch 42/60\n",
      "157/157 [==============================] - 0s 1ms/step - loss: 0.0046\n",
      "Epoch 43/60\n",
      "157/157 [==============================] - 0s 2ms/step - loss: 0.0046\n",
      "Epoch 44/60\n",
      "157/157 [==============================] - 0s 1ms/step - loss: 0.0046\n",
      "Epoch 45/60\n",
      "157/157 [==============================] - 1s 3ms/step - loss: 0.0046\n",
      "Epoch 46/60\n",
      "157/157 [==============================] - 0s 3ms/step - loss: 0.0046\n",
      "Epoch 47/60\n",
      "157/157 [==============================] - 1s 3ms/step - loss: 0.0046\n",
      "Epoch 48/60\n",
      "157/157 [==============================] - 0s 3ms/step - loss: 0.0046\n",
      "Epoch 49/60\n",
      "157/157 [==============================] - 0s 3ms/step - loss: 0.0046\n",
      "Epoch 50/60\n",
      "157/157 [==============================] - 0s 2ms/step - loss: 0.0046\n",
      "Epoch 51/60\n",
      "157/157 [==============================] - 0s 3ms/step - loss: 0.0046\n",
      "Epoch 52/60\n",
      "157/157 [==============================] - 0s 3ms/step - loss: 0.0046\n",
      "Epoch 53/60\n",
      "157/157 [==============================] - 0s 2ms/step - loss: 0.0046\n",
      "Epoch 54/60\n",
      "157/157 [==============================] - 0s 1ms/step - loss: 0.0046\n",
      "Epoch 55/60\n",
      "157/157 [==============================] - 0s 1ms/step - loss: 0.0046\n",
      "Epoch 56/60\n",
      "157/157 [==============================] - 0s 1ms/step - loss: 0.0046\n",
      "Epoch 57/60\n",
      "157/157 [==============================] - 0s 1ms/step - loss: 0.0046\n",
      "Epoch 58/60\n",
      "157/157 [==============================] - 0s 1ms/step - loss: 0.0046\n",
      "Epoch 59/60\n",
      "157/157 [==============================] - 0s 1ms/step - loss: 0.0046\n",
      "Epoch 60/60\n",
      "157/157 [==============================] - 0s 2ms/step - loss: 0.0046\n"
     ]
    },
    {
     "data": {
      "text/plain": [
       "<keras.callbacks.History at 0x7f839cf33610>"
      ]
     },
     "execution_count": 7,
     "metadata": {},
     "output_type": "execute_result"
    }
   ],
   "source": [
    "# Train on input data\n",
    "autoencoder.fit(X, X, epochs=60)"
   ]
  },
  {
   "cell_type": "code",
   "execution_count": 8,
   "metadata": {},
   "outputs": [
    {
     "data": {
      "text/plain": [
       "(5000, 2)"
      ]
     },
     "execution_count": 8,
     "metadata": {},
     "output_type": "execute_result"
    }
   ],
   "source": [
    "# Map raw input to latent space\n",
    "latent = encoder.predict(X)\n",
    "latent.shape"
   ]
  },
  {
   "cell_type": "code",
   "execution_count": 9,
   "metadata": {},
   "outputs": [
    {
     "data": {
      "image/png": "[encoded data removed]",
      "text/plain": [
       "<Figure size 432x288 with 1 Axes>"
      ]
     },
     "metadata": {
      "needs_background": "light"
     },
     "output_type": "display_data"
    }
   ],
   "source": [
    "plt.scatter(latent[:, 0], latent[:, 1], c=y)\n",
    "plt.xlabel('Bottleneck 1')\n",
    "plt.ylabel('Bottleneck 2')\n",
    "plt.title('Autoencoder latent space')\n",
    "plt.show()"
   ]
  },
  {
   "cell_type": "markdown",
   "metadata": {},
   "source": [
    "## Deep Autoencoder"
   ]
  },
  {
   "cell_type": "code",
   "execution_count": 10,
   "metadata": {},
   "outputs": [],
   "source": [
    "# Latent space dimension\n",
    "deep_encoding_dim = 2\n",
    "\n",
    "# Input layer: 50 features\n",
    "deep_input = Input(shape=(X.shape[1],))\n",
    "\n",
    "deep_encoded = Dense(10, activation='sigmoid')(deep_input)\n",
    "\n",
    "deep_encoded = Dense(5, activation='sigmoid')(deep_encoded)\n",
    "\n",
    "# Encoded representation of input\n",
    "deep_encoded = Dense(deep_encoding_dim, activation='sigmoid')(deep_encoded)\n",
    "\n",
    "deep_decoded = Dense(5, activation='tanh')(deep_encoded)\n",
    "\n",
    "deep_decoded = Dense(10, activation='tanh')(deep_decoded)\n",
    "\n",
    "# Decoded representation of latent space \n",
    "deep_decoded = Dense(X.shape[1], activation='tanh')(deep_decoded)\n",
    "\n",
    "# Autoencoder model with encoder and decoder segments\n",
    "deepautoencoder = Model(deep_input, deep_decoded)"
   ]
  },
  {
   "cell_type": "code",
   "execution_count": 11,
   "metadata": {},
   "outputs": [],
   "source": [
    "# Separating encoder model from autoencoder\n",
    "deepencoder = Model(deep_input, deep_encoded)"
   ]
  },
  {
   "cell_type": "code",
   "execution_count": 12,
   "metadata": {},
   "outputs": [],
   "source": [
    "deepautoencoder.compile(optimizer='adam', loss='mse')"
   ]
  },
  {
   "cell_type": "code",
   "execution_count": 13,
   "metadata": {},
   "outputs": [
    {
     "name": "stdout",
     "output_type": "stream",
     "text": [
      "Epoch 1/60\n",
      "157/157 [==============================] - 1s 3ms/step - loss: 0.0366\n",
      "Epoch 2/60\n",
      "157/157 [==============================] - 0s 3ms/step - loss: 0.0326\n",
      "Epoch 3/60\n",
      "157/157 [==============================] - 0s 2ms/step - loss: 0.0310\n",
      "Epoch 4/60\n",
      "157/157 [==============================] - 0s 1ms/step - loss: 0.0174\n",
      "Epoch 5/60\n",
      "157/157 [==============================] - 0s 1ms/step - loss: 0.0113\n",
      "Epoch 6/60\n",
      "157/157 [==============================] - 1s 4ms/step - loss: 0.0050\n",
      "Epoch 7/60\n",
      "157/157 [==============================] - 0s 1ms/step - loss: 0.0046\n",
      "Epoch 8/60\n",
      "157/157 [==============================] - 0s 1ms/step - loss: 0.0046\n",
      "Epoch 9/60\n",
      "157/157 [==============================] - 0s 1ms/step - loss: 0.0046\n",
      "Epoch 10/60\n",
      "157/157 [==============================] - 0s 3ms/step - loss: 0.0046\n",
      "Epoch 11/60\n",
      "157/157 [==============================] - 1s 4ms/step - loss: 0.0046\n",
      "Epoch 12/60\n",
      "157/157 [==============================] - 0s 3ms/step - loss: 0.0046\n",
      "Epoch 13/60\n",
      "157/157 [==============================] - 1s 4ms/step - loss: 0.0046\n",
      "Epoch 14/60\n",
      "157/157 [==============================] - 1s 3ms/step - loss: 0.0046\n",
      "Epoch 15/60\n",
      "157/157 [==============================] - 0s 3ms/step - loss: 0.0046\n",
      "Epoch 16/60\n",
      "157/157 [==============================] - 0s 3ms/step - loss: 0.0046\n",
      "Epoch 17/60\n",
      "157/157 [==============================] - 0s 3ms/step - loss: 0.0046\n",
      "Epoch 18/60\n",
      "157/157 [==============================] - 0s 3ms/step - loss: 0.0046\n",
      "Epoch 19/60\n",
      "157/157 [==============================] - 0s 2ms/step - loss: 0.0046\n",
      "Epoch 20/60\n",
      "157/157 [==============================] - 0s 2ms/step - loss: 0.0046\n",
      "Epoch 21/60\n",
      "157/157 [==============================] - 1s 3ms/step - loss: 0.0046\n",
      "Epoch 22/60\n",
      "157/157 [==============================] - 0s 3ms/step - loss: 0.0046\n",
      "Epoch 23/60\n",
      "157/157 [==============================] - 0s 2ms/step - loss: 0.0046\n",
      "Epoch 24/60\n",
      "157/157 [==============================] - 0s 2ms/step - loss: 0.0046\n",
      "Epoch 25/60\n",
      "157/157 [==============================] - 0s 2ms/step - loss: 0.0046\n",
      "Epoch 26/60\n",
      "157/157 [==============================] - 0s 3ms/step - loss: 0.0046\n",
      "Epoch 27/60\n",
      "157/157 [==============================] - 0s 2ms/step - loss: 0.0046\n",
      "Epoch 28/60\n",
      "157/157 [==============================] - 0s 2ms/step - loss: 0.0046\n",
      "Epoch 29/60\n",
      "157/157 [==============================] - 0s 2ms/step - loss: 0.0046\n",
      "Epoch 30/60\n",
      "157/157 [==============================] - 1s 3ms/step - loss: 0.0046\n",
      "Epoch 31/60\n",
      "157/157 [==============================] - 0s 3ms/step - loss: 0.0046\n",
      "Epoch 32/60\n",
      "157/157 [==============================] - 0s 1ms/step - loss: 0.0046\n",
      "Epoch 33/60\n",
      "157/157 [==============================] - 0s 1ms/step - loss: 0.0046\n",
      "Epoch 34/60\n",
      "157/157 [==============================] - 0s 2ms/step - loss: 0.0046\n",
      "Epoch 35/60\n",
      "157/157 [==============================] - 0s 1ms/step - loss: 0.0046\n",
      "Epoch 36/60\n",
      "157/157 [==============================] - 0s 1ms/step - loss: 0.0045\n",
      "Epoch 37/60\n",
      "157/157 [==============================] - 0s 1ms/step - loss: 0.0045\n",
      "Epoch 38/60\n",
      "157/157 [==============================] - 0s 1ms/step - loss: 0.0045\n",
      "Epoch 39/60\n",
      "157/157 [==============================] - 0s 1ms/step - loss: 0.0045\n",
      "Epoch 40/60\n",
      "157/157 [==============================] - 0s 1ms/step - loss: 0.0045\n",
      "Epoch 41/60\n",
      "157/157 [==============================] - 0s 1ms/step - loss: 0.0045\n",
      "Epoch 42/60\n",
      "157/157 [==============================] - 0s 1ms/step - loss: 0.0045\n",
      "Epoch 43/60\n",
      "157/157 [==============================] - 0s 1ms/step - loss: 0.0045\n",
      "Epoch 44/60\n",
      "157/157 [==============================] - 0s 1ms/step - loss: 0.0045\n",
      "Epoch 45/60\n",
      "157/157 [==============================] - 0s 1ms/step - loss: 0.0045\n",
      "Epoch 46/60\n",
      "157/157 [==============================] - 0s 1ms/step - loss: 0.0045\n",
      "Epoch 47/60\n",
      "157/157 [==============================] - 0s 2ms/step - loss: 0.0045\n",
      "Epoch 48/60\n",
      "157/157 [==============================] - 0s 1ms/step - loss: 0.0045\n",
      "Epoch 49/60\n",
      "157/157 [==============================] - 0s 1ms/step - loss: 0.0045\n",
      "Epoch 50/60\n",
      "157/157 [==============================] - 0s 1ms/step - loss: 0.0045\n",
      "Epoch 51/60\n",
      "157/157 [==============================] - 0s 1ms/step - loss: 0.0045\n",
      "Epoch 52/60\n",
      "157/157 [==============================] - 0s 1ms/step - loss: 0.0045\n",
      "Epoch 53/60\n",
      "157/157 [==============================] - 0s 1ms/step - loss: 0.0045\n",
      "Epoch 54/60\n",
      "157/157 [==============================] - 0s 2ms/step - loss: 0.0045\n",
      "Epoch 55/60\n",
      "157/157 [==============================] - 0s 2ms/step - loss: 0.0045\n",
      "Epoch 56/60\n",
      "157/157 [==============================] - 0s 1ms/step - loss: 0.0045\n",
      "Epoch 57/60\n",
      "157/157 [==============================] - 0s 1ms/step - loss: 0.0045\n",
      "Epoch 58/60\n",
      "157/157 [==============================] - 0s 1ms/step - loss: 0.0045\n",
      "Epoch 59/60\n",
      "157/157 [==============================] - 0s 1ms/step - loss: 0.0045\n",
      "Epoch 60/60\n",
      "157/157 [==============================] - 0s 1ms/step - loss: 0.0045\n"
     ]
    },
    {
     "data": {
      "text/plain": [
       "<keras.callbacks.History at 0x7f839d840520>"
      ]
     },
     "execution_count": 13,
     "metadata": {},
     "output_type": "execute_result"
    }
   ],
   "source": [
    "# Train on input data\n",
    "deepautoencoder.fit(X, X, epochs=60)"
   ]
  },
  {
   "cell_type": "code",
   "execution_count": 14,
   "metadata": {},
   "outputs": [
    {
     "data": {
      "text/plain": [
       "(5000, 2)"
      ]
     },
     "execution_count": 14,
     "metadata": {},
     "output_type": "execute_result"
    }
   ],
   "source": [
    "# Map raw input to latent space\n",
    "deeplatent = deepencoder.predict(X)\n",
    "deeplatent.shape"
   ]
  },
  {
   "cell_type": "code",
   "execution_count": 15,
   "metadata": {},
   "outputs": [
    {
     "data": {
      "image/png": "[encoded data removed]",
      "text/plain": [
       "<Figure size 432x288 with 1 Axes>"
      ]
     },
     "metadata": {
      "needs_background": "light"
     },
     "output_type": "display_data"
    }
   ],
   "source": [
    "plt.scatter(deeplatent[:, 0], deeplatent[:, 1], c=y)\n",
    "plt.xlabel('Bottleneck 1')\n",
    "plt.ylabel('Bottleneck 2')\n",
    "plt.title('Deep Autoencoder latent space')\n",
    "plt.show()"
   ]
  },
  {
   "cell_type": "code",
   "execution_count": null,
   "metadata": {},
   "outputs": [],
   "source": []
  }
 ],
 "metadata": {
  "interpreter": {
   "hash": "c1f69574124eaf197389e2ded325d98b1776dedf5e0a73faa5eb01ce2513b0d5"
  },
  "kernelspec": {
   "display_name": "Python 3",
   "language": "python",
   "name": "python3"
  },
  "language_info": {
   "codemirror_mode": {
    "name": "ipython",
    "version": 3
   },
   "file_extension": ".py",
   "mimetype": "text/x-python",
   "name": "python",
   "nbconvert_exporter": "python",
   "pygments_lexer": "ipython3",
   "version": "3.9.7"
  }
 },
 "nbformat": 4,
 "nbformat_minor": 4
}
